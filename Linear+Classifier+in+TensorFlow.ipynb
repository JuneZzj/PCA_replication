{
 "cells": [
  {
   "cell_type": "code",
   "execution_count": 4,
   "metadata": {
    "collapsed": true
   },
   "outputs": [],
   "source": [
    "import tensorflow as tf\n",
    "import pandas as pd"
   ]
  },
  {
   "cell_type": "code",
   "execution_count": 7,
   "metadata": {
    "collapsed": true
   },
   "outputs": [],
   "source": [
    "## Define path data\n",
    "COLUMNS = ['age','workclass', 'fnlwgt', 'education', 'education_num', 'marital',\n",
    "           'occupation', 'relationship', 'race', 'sex', 'capital_gain', 'capital_loss',\n",
    "           'hours_week', 'native_country', 'label']\n",
    "PATH = \"d:/adult_data.csv\"\n",
    "PATH_test = \"d:/adult_test.csv\""
   ]
  },
  {
   "cell_type": "code",
   "execution_count": 8,
   "metadata": {},
   "outputs": [],
   "source": [
    "df_train = pd.read_csv(PATH, skipinitialspace=True, names = COLUMNS, index_col=False)\n",
    "df_test = pd.read_csv(PATH_test,skiprows = 1, skipinitialspace=True, names = COLUMNS, index_col=False)"
   ]
  },
  {
   "cell_type": "code",
   "execution_count": 9,
   "metadata": {},
   "outputs": [
    {
     "name": "stdout",
     "output_type": "stream",
     "text": [
      "(32561, 15) (16281, 15)\n",
      "age                int64\n",
      "workclass         object\n",
      "fnlwgt             int64\n",
      "education         object\n",
      "education_num      int64\n",
      "marital           object\n",
      "occupation        object\n",
      "relationship      object\n",
      "race              object\n",
      "sex               object\n",
      "capital_gain       int64\n",
      "capital_loss       int64\n",
      "hours_week         int64\n",
      "native_country    object\n",
      "label             object\n",
      "dtype: object\n"
     ]
    }
   ],
   "source": [
    "print(df_train.shape, df_test.shape)\n",
    "print(df_train.dtypes)"
   ]
  },
  {
   "cell_type": "code",
   "execution_count": 10,
   "metadata": {
    "collapsed": true
   },
   "outputs": [],
   "source": [
    "label = {'<=50K': 0,'>50K': 1}\n",
    "df_train.label = [label[item] for item in df_train.label]\n",
    "label_t = {'<=50K.': 0,'>50K.': 1}\n",
    "df_test.label = [label_t[item] for item in df_test.label]"
   ]
  },
  {
   "cell_type": "code",
   "execution_count": 11,
   "metadata": {},
   "outputs": [
    {
     "name": "stdout",
     "output_type": "stream",
     "text": [
      "0    24720\n",
      "1     7841\n",
      "Name: label, dtype: int64\n",
      "0    12435\n",
      "1     3846\n",
      "Name: label, dtype: int64\n",
      "age                int64\n",
      "workclass         object\n",
      "fnlwgt             int64\n",
      "education         object\n",
      "education_num      int64\n",
      "marital           object\n",
      "occupation        object\n",
      "relationship      object\n",
      "race              object\n",
      "sex               object\n",
      "capital_gain       int64\n",
      "capital_loss       int64\n",
      "hours_week         int64\n",
      "native_country    object\n",
      "label              int64\n",
      "dtype: object\n"
     ]
    }
   ],
   "source": [
    "print(df_train[\"label\"].value_counts())\n",
    "### The model will be correct in atleast 70% of the case\n",
    "print(df_test[\"label\"].value_counts())\n",
    "## Unbalanced label\n",
    "print(df_train.dtypes)"
   ]
  },
  {
   "cell_type": "code",
   "execution_count": 12,
   "metadata": {
    "collapsed": true
   },
   "outputs": [],
   "source": [
    "## Add features to the bucket: \n",
    "### Define continuous list\n",
    "CONTI_FEATURES  = ['age', 'fnlwgt','capital_gain', 'education_num', 'capital_loss', 'hours_week']\n",
    "### Define the categorical list\n",
    "CATE_FEATURES = ['workclass', 'education', 'marital', 'occupation', 'relationship', 'race', 'sex', 'native_country']"
   ]
  },
  {
   "cell_type": "code",
   "execution_count": 13,
   "metadata": {},
   "outputs": [
    {
     "name": "stdout",
     "output_type": "stream",
     "text": [
      "[[ 39.]\n",
      " [ 50.]\n",
      " [ 38.]\n",
      " ..., \n",
      " [ 58.]\n",
      " [ 22.]\n",
      " [ 52.]]\n"
     ]
    }
   ],
   "source": [
    "def print_transformation(feature = \"age\", continuous = True, size = 2): \n",
    "    #X = fc.numeric_column(feature)\n",
    "    ## Create feature name\n",
    "    feature_names = [\n",
    "    feature]\n",
    "\n",
    "    ## Create dict with the data\n",
    "    d = dict(zip(feature_names, [df_train[feature]]))\n",
    "\n",
    "    ## Convert age\n",
    "    if continuous == True:\n",
    "        c = tf.feature_column.numeric_column(feature)\n",
    "        feature_columns = [c]\n",
    "    else: \n",
    "        c = tf.feature_column.categorical_column_with_hash_bucket(feature, hash_bucket_size=size) \n",
    "        c_indicator = tf.feature_column.indicator_column(c)\n",
    "        feature_columns = [c_indicator]\n",
    "    \n",
    "## Use input_layer to print the value\n",
    "    input_layer = tf.feature_column.input_layer(\n",
    "        features=d,\n",
    "        feature_columns=feature_columns\n",
    "        )\n",
    "    ## Create lookup table\n",
    "    zero = tf.constant(0, dtype=tf.float32)\n",
    "    where = tf.not_equal(input_layer, zero)\n",
    "    ## Return lookup tble\n",
    "    indices = tf.where(where)\n",
    "    values = tf.gather_nd(input_layer, indices)\n",
    "    ## Initiate graph\n",
    "    sess = tf.Session()\n",
    "    ## Print value\n",
    "    print(sess.run(input_layer))\n",
    "print_transformation(feature = \"age\", continuous = True)"
   ]
  },
  {
   "cell_type": "code",
   "execution_count": 14,
   "metadata": {
    "collapsed": true
   },
   "outputs": [],
   "source": [
    "continuous_features = [tf.feature_column.numeric_column(k) for k in CONTI_FEATURES]\t"
   ]
  },
  {
   "cell_type": "code",
   "execution_count": 15,
   "metadata": {},
   "outputs": [
    {
     "name": "stdout",
     "output_type": "stream",
     "text": [
      "[[ 1.  0.]\n",
      " [ 1.  0.]\n",
      " [ 1.  0.]\n",
      " ..., \n",
      " [ 0.  1.]\n",
      " [ 1.  0.]\n",
      " [ 0.  1.]]\n"
     ]
    }
   ],
   "source": [
    "print_transformation(feature = \"sex\", continuous = False, size = 2)"
   ]
  },
  {
   "cell_type": "code",
   "execution_count": 16,
   "metadata": {
    "collapsed": true
   },
   "outputs": [],
   "source": [
    "relationship = tf.feature_column.categorical_column_with_vocabulary_list('relationship', ['Husband', 'Not-in-family', 'Wife', 'Own-child', 'Unmarried','Other-relative'])"
   ]
  },
  {
   "cell_type": "code",
   "execution_count": 17,
   "metadata": {
    "collapsed": true
   },
   "outputs": [],
   "source": [
    "categorical_features = [tf.feature_column.categorical_column_with_hash_bucket(k, hash_bucket_size=1000) for k in CATE_FEATURES]"
   ]
  },
  {
   "cell_type": "code",
   "execution_count": 18,
   "metadata": {},
   "outputs": [
    {
     "name": "stdout",
     "output_type": "stream",
     "text": [
      "INFO:tensorflow:Using default config.\n",
      "INFO:tensorflow:Using config: {'_model_dir': 'ongoing/train', '_tf_random_seed': None, '_save_summary_steps': 100, '_save_checkpoints_steps': None, '_save_checkpoints_secs': 600, '_session_config': None, '_keep_checkpoint_max': 5, '_keep_checkpoint_every_n_hours': 10000, '_log_step_count_steps': 100, '_train_distribute': None, '_service': None, '_cluster_spec': <tensorflow.python.training.server_lib.ClusterSpec object at 0x0000015448785CC0>, '_task_type': 'worker', '_task_id': 0, '_global_id_in_cluster': 0, '_master': '', '_evaluation_master': '', '_is_chief': True, '_num_ps_replicas': 0, '_num_worker_replicas': 1}\n"
     ]
    }
   ],
   "source": [
    "model = tf.estimator.LinearClassifier(\n",
    "    n_classes = 2,\n",
    "    model_dir=\"ongoing/train\", \n",
    "    feature_columns=categorical_features+ continuous_features)"
   ]
  },
  {
   "cell_type": "code",
   "execution_count": 19,
   "metadata": {
    "collapsed": true
   },
   "outputs": [],
   "source": [
    "FEATURES = ['age','workclass', 'fnlwgt', 'education', 'education_num', 'marital', 'occupation', 'relationship', 'race', 'sex', 'capital_gain', 'capital_loss', 'hours_week', 'native_country']\n",
    "LABEL= 'label'\n",
    "def get_input_fn(data_set, num_epochs=None, n_batch = 128, shuffle=True):\n",
    "    return tf.estimator.inputs.pandas_input_fn(\n",
    "       x=pd.DataFrame({k: data_set[k].values for k in FEATURES}),\n",
    "       y = pd.Series(data_set[LABEL].values),\n",
    "       batch_size=n_batch,   \n",
    "       num_epochs=num_epochs,\n",
    "       shuffle=shuffle)"
   ]
  },
  {
   "cell_type": "code",
   "execution_count": 20,
   "metadata": {},
   "outputs": [
    {
     "name": "stdout",
     "output_type": "stream",
     "text": [
      "INFO:tensorflow:Calling model_fn.\n",
      "INFO:tensorflow:Done calling model_fn.\n",
      "INFO:tensorflow:Create CheckpointSaverHook.\n",
      "INFO:tensorflow:Graph was finalized.\n",
      "INFO:tensorflow:Running local_init_op.\n",
      "INFO:tensorflow:Done running local_init_op.\n",
      "INFO:tensorflow:Saving checkpoints for 1 into ongoing/train\\model.ckpt.\n",
      "INFO:tensorflow:loss = 88.7229, step = 1\n",
      "INFO:tensorflow:global_step/sec: 128.915\n",
      "INFO:tensorflow:loss = 52583.6, step = 101 (0.780 sec)\n",
      "INFO:tensorflow:global_step/sec: 256.835\n",
      "INFO:tensorflow:loss = 25203.8, step = 201 (0.388 sec)\n",
      "INFO:tensorflow:global_step/sec: 256.837\n",
      "INFO:tensorflow:loss = 54924.3, step = 301 (0.390 sec)\n",
      "INFO:tensorflow:global_step/sec: 253.576\n",
      "INFO:tensorflow:loss = 68509.3, step = 401 (0.393 sec)\n",
      "INFO:tensorflow:global_step/sec: 260.859\n",
      "INFO:tensorflow:loss = 9151.75, step = 501 (0.383 sec)\n",
      "INFO:tensorflow:global_step/sec: 233.433\n",
      "INFO:tensorflow:loss = 34576.1, step = 601 (0.428 sec)\n",
      "INFO:tensorflow:global_step/sec: 257.498\n",
      "INFO:tensorflow:loss = 36184.2, step = 701 (0.387 sec)\n",
      "INFO:tensorflow:global_step/sec: 246.082\n",
      "INFO:tensorflow:loss = 23503.3, step = 801 (0.407 sec)\n",
      "INFO:tensorflow:global_step/sec: 254.222\n",
      "INFO:tensorflow:loss = 21171.6, step = 901 (0.392 sec)\n",
      "INFO:tensorflow:Saving checkpoints for 1000 into ongoing/train\\model.ckpt.\n",
      "INFO:tensorflow:Loss for final step: 27380.9.\n"
     ]
    },
    {
     "data": {
      "text/plain": [
       "<tensorflow.python.estimator.canned.linear.LinearClassifier at 0x15448735668>"
      ]
     },
     "execution_count": 20,
     "metadata": {},
     "output_type": "execute_result"
    }
   ],
   "source": [
    "model.train(input_fn=get_input_fn(df_train, \n",
    "                                      num_epochs=None,\n",
    "                                      n_batch = 128,\n",
    "                                      shuffle=False),\n",
    "                                      steps=1000)"
   ]
  },
  {
   "cell_type": "code",
   "execution_count": 21,
   "metadata": {},
   "outputs": [
    {
     "name": "stdout",
     "output_type": "stream",
     "text": [
      "INFO:tensorflow:Calling model_fn.\n",
      "WARNING:tensorflow:Trapezoidal rule is known to produce incorrect PR-AUCs; please switch to \"careful_interpolation\" instead.\n",
      "WARNING:tensorflow:Trapezoidal rule is known to produce incorrect PR-AUCs; please switch to \"careful_interpolation\" instead.\n",
      "INFO:tensorflow:Done calling model_fn.\n",
      "INFO:tensorflow:Starting evaluation at 2019-05-14-14:41:19\n",
      "INFO:tensorflow:Graph was finalized.\n",
      "INFO:tensorflow:Restoring parameters from ongoing/train\\model.ckpt-1000\n",
      "INFO:tensorflow:Running local_init_op.\n",
      "INFO:tensorflow:Done running local_init_op.\n",
      "INFO:tensorflow:Evaluation [100/1000]\n",
      "INFO:tensorflow:Finished evaluation at 2019-05-14-14:41:21\n",
      "INFO:tensorflow:Saving dict for global step 1000: accuracy = 0.796081, accuracy_baseline = 0.763774, auc = 0.615321, auc_precision_recall = 0.555618, average_loss = 123.137, global_step = 1000, label/mean = 0.236226, loss = 15662.4, precision = 0.66773, prediction/mean = 0.0963189, recall = 0.272231\n"
     ]
    },
    {
     "data": {
      "text/plain": [
       "{'accuracy': 0.7960813,\n",
       " 'accuracy_baseline': 0.76377374,\n",
       " 'auc': 0.61532056,\n",
       " 'auc_precision_recall': 0.55561829,\n",
       " 'average_loss': 123.13694,\n",
       " 'global_step': 1000,\n",
       " 'label/mean': 0.23622628,\n",
       " 'loss': 15662.441,\n",
       " 'precision': 0.66772962,\n",
       " 'prediction/mean': 0.096318893,\n",
       " 'recall': 0.27223089}"
      ]
     },
     "execution_count": 21,
     "metadata": {},
     "output_type": "execute_result"
    }
   ],
   "source": [
    "model.evaluate(input_fn=get_input_fn(df_test, \n",
    "                                      num_epochs=1,\n",
    "                                      n_batch = 128,\n",
    "                                      shuffle=False),\n",
    "                                      steps=1000)"
   ]
  },
  {
   "cell_type": "code",
   "execution_count": 22,
   "metadata": {
    "collapsed": true
   },
   "outputs": [],
   "source": [
    "def square_var(df_t, df_te, var_name = 'age'):\n",
    "    df_t['new'] = df_t[var_name].pow(2) \n",
    "    df_te['new'] = df_te[var_name].pow(2) \n",
    "    return df_t, df_te"
   ]
  },
  {
   "cell_type": "code",
   "execution_count": 23,
   "metadata": {
    "collapsed": true
   },
   "outputs": [],
   "source": [
    "df_train_new, df_test_new = square_var(df_train, df_test, var_name = 'age')"
   ]
  },
  {
   "cell_type": "code",
   "execution_count": 24,
   "metadata": {},
   "outputs": [
    {
     "name": "stdout",
     "output_type": "stream",
     "text": [
      "(32561, 16) (16281, 16)\n"
     ]
    }
   ],
   "source": [
    "print(df_train_new.shape, df_test_new.shape)"
   ]
  },
  {
   "cell_type": "code",
   "execution_count": 25,
   "metadata": {
    "collapsed": true
   },
   "outputs": [],
   "source": [
    "CONTI_FEATURES_NEW  = ['age', 'fnlwgt','capital_gain', 'education_num', 'capital_loss', 'hours_week', 'new']\n",
    "continuous_features_new = [tf.feature_column.numeric_column(k) for k in CONTI_FEATURES_NEW]"
   ]
  },
  {
   "cell_type": "code",
   "execution_count": 26,
   "metadata": {},
   "outputs": [
    {
     "name": "stdout",
     "output_type": "stream",
     "text": [
      "INFO:tensorflow:Using default config.\n",
      "INFO:tensorflow:Using config: {'_model_dir': 'ongoing/train1', '_tf_random_seed': None, '_save_summary_steps': 100, '_save_checkpoints_steps': None, '_save_checkpoints_secs': 600, '_session_config': None, '_keep_checkpoint_max': 5, '_keep_checkpoint_every_n_hours': 10000, '_log_step_count_steps': 100, '_train_distribute': None, '_service': None, '_cluster_spec': <tensorflow.python.training.server_lib.ClusterSpec object at 0x000001544D3DF080>, '_task_type': 'worker', '_task_id': 0, '_global_id_in_cluster': 0, '_master': '', '_evaluation_master': '', '_is_chief': True, '_num_ps_replicas': 0, '_num_worker_replicas': 1}\n"
     ]
    }
   ],
   "source": [
    "model_1 = tf.estimator.LinearClassifier(\n",
    "    model_dir=\"ongoing/train1\", \n",
    "    feature_columns=categorical_features+ continuous_features_new)"
   ]
  },
  {
   "cell_type": "code",
   "execution_count": 27,
   "metadata": {
    "collapsed": true
   },
   "outputs": [],
   "source": [
    "FEATURES_NEW = ['age','workclass', 'fnlwgt', 'education', 'education_num', 'marital', 'occupation', 'relationship', 'race', 'sex', 'capital_gain', 'capital_loss', 'hours_week', 'native_country', 'new']\n",
    "def get_input_fn(data_set, num_epochs=None, n_batch = 128, shuffle=True):\n",
    "    return tf.estimator.inputs.pandas_input_fn(\n",
    "       x=pd.DataFrame({k: data_set[k].values for k in FEATURES_NEW}),\n",
    "       y = pd.Series(data_set[LABEL].values),\n",
    "       batch_size=n_batch,   \n",
    "       num_epochs=num_epochs,\n",
    "       shuffle=shuffle)"
   ]
  },
  {
   "cell_type": "code",
   "execution_count": 28,
   "metadata": {},
   "outputs": [
    {
     "name": "stdout",
     "output_type": "stream",
     "text": [
      "INFO:tensorflow:Calling model_fn.\n",
      "INFO:tensorflow:Done calling model_fn.\n",
      "INFO:tensorflow:Create CheckpointSaverHook.\n",
      "INFO:tensorflow:Graph was finalized.\n",
      "INFO:tensorflow:Running local_init_op.\n",
      "INFO:tensorflow:Done running local_init_op.\n",
      "INFO:tensorflow:Saving checkpoints for 1 into ongoing/train1\\model.ckpt.\n",
      "INFO:tensorflow:loss = 88.7229, step = 1\n",
      "INFO:tensorflow:global_step/sec: 113.792\n",
      "INFO:tensorflow:loss = 70077.7, step = 101 (0.884 sec)\n",
      "INFO:tensorflow:global_step/sec: 238.446\n",
      "INFO:tensorflow:loss = 49522.1, step = 201 (0.416 sec)\n",
      "INFO:tensorflow:global_step/sec: 220.993\n",
      "INFO:tensorflow:loss = 107121.0, step = 301 (0.453 sec)\n",
      "INFO:tensorflow:global_step/sec: 228.625\n",
      "INFO:tensorflow:loss = 12814.2, step = 401 (0.437 sec)\n",
      "INFO:tensorflow:global_step/sec: 238.446\n",
      "INFO:tensorflow:loss = 19573.9, step = 501 (0.421 sec)\n",
      "INFO:tensorflow:global_step/sec: 229.676\n",
      "INFO:tensorflow:loss = 26382.0, step = 601 (0.433 sec)\n",
      "INFO:tensorflow:global_step/sec: 243.088\n",
      "INFO:tensorflow:loss = 23417.7, step = 701 (0.413 sec)\n",
      "INFO:tensorflow:global_step/sec: 236.751\n",
      "INFO:tensorflow:loss = 23946.0, step = 801 (0.422 sec)\n",
      "INFO:tensorflow:global_step/sec: 227.584\n",
      "INFO:tensorflow:loss = 3309.58, step = 901 (0.439 sec)\n",
      "INFO:tensorflow:Saving checkpoints for 1000 into ongoing/train1\\model.ckpt.\n",
      "INFO:tensorflow:Loss for final step: 28861.9.\n"
     ]
    },
    {
     "data": {
      "text/plain": [
       "<tensorflow.python.estimator.canned.linear.LinearClassifier at 0x1544d3df4a8>"
      ]
     },
     "execution_count": 28,
     "metadata": {},
     "output_type": "execute_result"
    }
   ],
   "source": [
    "model_1.train(input_fn=get_input_fn(df_train, \n",
    "                                      num_epochs=None,\n",
    "                                      n_batch = 128,\n",
    "                                      shuffle=False),\n",
    "                                      steps=1000)"
   ]
  },
  {
   "cell_type": "code",
   "execution_count": 29,
   "metadata": {},
   "outputs": [
    {
     "name": "stdout",
     "output_type": "stream",
     "text": [
      "INFO:tensorflow:Calling model_fn.\n",
      "WARNING:tensorflow:Trapezoidal rule is known to produce incorrect PR-AUCs; please switch to \"careful_interpolation\" instead.\n",
      "WARNING:tensorflow:Trapezoidal rule is known to produce incorrect PR-AUCs; please switch to \"careful_interpolation\" instead.\n",
      "INFO:tensorflow:Done calling model_fn.\n",
      "INFO:tensorflow:Starting evaluation at 2019-05-14-14:44:46\n",
      "INFO:tensorflow:Graph was finalized.\n",
      "INFO:tensorflow:Restoring parameters from ongoing/train1\\model.ckpt-1000\n",
      "INFO:tensorflow:Running local_init_op.\n",
      "INFO:tensorflow:Done running local_init_op.\n",
      "INFO:tensorflow:Evaluation [100/1000]\n",
      "INFO:tensorflow:Finished evaluation at 2019-05-14-14:44:47\n",
      "INFO:tensorflow:Saving dict for global step 1000: accuracy = 0.794423, accuracy_baseline = 0.763774, auc = 0.609376, auc_precision_recall = 0.548858, average_loss = 111.005, global_step = 1000, label/mean = 0.236226, loss = 14119.3, precision = 0.66824, prediction/mean = 0.0911626, recall = 0.25767\n"
     ]
    },
    {
     "data": {
      "text/plain": [
       "{'accuracy': 0.79442292,\n",
       " 'accuracy_baseline': 0.76377374,\n",
       " 'auc': 0.60937554,\n",
       " 'auc_precision_recall': 0.54885805,\n",
       " 'average_loss': 111.0046,\n",
       " 'global_step': 1000,\n",
       " 'label/mean': 0.23622628,\n",
       " 'loss': 14119.265,\n",
       " 'precision': 0.66824007,\n",
       " 'prediction/mean': 0.091162622,\n",
       " 'recall': 0.25767031}"
      ]
     },
     "execution_count": 29,
     "metadata": {},
     "output_type": "execute_result"
    }
   ],
   "source": [
    "model_1.evaluate(input_fn=get_input_fn(df_test_new, \n",
    "                                      num_epochs=1,\n",
    "                                      n_batch = 128,\n",
    "                                      shuffle=False),\n",
    "                                      steps=1000)"
   ]
  },
  {
   "cell_type": "code",
   "execution_count": 30,
   "metadata": {
    "collapsed": true
   },
   "outputs": [],
   "source": [
    "age = tf.feature_column.numeric_column('age')\n",
    "age_buckets = tf.feature_column.bucketized_column(\n",
    "    age, boundaries=[18, 25, 30, 35, 40, 45, 50, 55, 60, 65])"
   ]
  },
  {
   "cell_type": "code",
   "execution_count": 31,
   "metadata": {
    "collapsed": true
   },
   "outputs": [],
   "source": [
    "education_x_occupation = [tf.feature_column.crossed_column(\n",
    "    ['education', 'occupation'], hash_bucket_size=1000)]\n",
    "age_buckets_x_education_x_occupation = [tf.feature_column.crossed_column(\n",
    "    [age_buckets, 'education', 'occupation'], hash_bucket_size=1000)]"
   ]
  },
  {
   "cell_type": "code",
   "execution_count": 32,
   "metadata": {},
   "outputs": [
    {
     "name": "stdout",
     "output_type": "stream",
     "text": [
      "INFO:tensorflow:Using default config.\n",
      "INFO:tensorflow:Using config: {'_model_dir': 'ongoing/train3', '_tf_random_seed': None, '_save_summary_steps': 100, '_save_checkpoints_steps': None, '_save_checkpoints_secs': 600, '_session_config': None, '_keep_checkpoint_max': 5, '_keep_checkpoint_every_n_hours': 10000, '_log_step_count_steps': 100, '_train_distribute': None, '_service': None, '_cluster_spec': <tensorflow.python.training.server_lib.ClusterSpec object at 0x000001544B6EEBE0>, '_task_type': 'worker', '_task_id': 0, '_global_id_in_cluster': 0, '_master': '', '_evaluation_master': '', '_is_chief': True, '_num_ps_replicas': 0, '_num_worker_replicas': 1}\n"
     ]
    }
   ],
   "source": [
    "base_columns = [\n",
    "    age_buckets,\n",
    "]\n",
    "\n",
    "model_imp = tf.estimator.LinearClassifier(\n",
    "    model_dir=\"ongoing/train3\", \n",
    "    feature_columns=categorical_features+base_columns+education_x_occupation+age_buckets_x_education_x_occupation)"
   ]
  },
  {
   "cell_type": "code",
   "execution_count": 33,
   "metadata": {
    "collapsed": true
   },
   "outputs": [],
   "source": [
    "FEATURES_imp = ['age','workclass', 'education', 'education_num', 'marital',\n",
    "                'occupation', 'relationship', 'race', 'sex', 'native_country', 'new']\n",
    "\n",
    "def get_input_fn(data_set, num_epochs=None, n_batch = 128, shuffle=True):\n",
    "    return tf.estimator.inputs.pandas_input_fn(\n",
    "       x=pd.DataFrame({k: data_set[k].values for k in FEATURES_imp}),\n",
    "       y = pd.Series(data_set[LABEL].values),\n",
    "       batch_size=n_batch,   \n",
    "       num_epochs=num_epochs,\n",
    "       shuffle=shuffle)"
   ]
  },
  {
   "cell_type": "code",
   "execution_count": 34,
   "metadata": {},
   "outputs": [
    {
     "name": "stdout",
     "output_type": "stream",
     "text": [
      "INFO:tensorflow:Calling model_fn.\n",
      "INFO:tensorflow:Done calling model_fn.\n",
      "INFO:tensorflow:Create CheckpointSaverHook.\n",
      "INFO:tensorflow:Graph was finalized.\n",
      "INFO:tensorflow:Running local_init_op.\n",
      "INFO:tensorflow:Done running local_init_op.\n",
      "INFO:tensorflow:Saving checkpoints for 1 into ongoing/train3\\model.ckpt.\n",
      "INFO:tensorflow:loss = 88.7229, step = 1\n",
      "INFO:tensorflow:global_step/sec: 117.402\n",
      "INFO:tensorflow:loss = 50.3345, step = 101 (0.856 sec)\n",
      "INFO:tensorflow:global_step/sec: 270.758\n",
      "INFO:tensorflow:loss = 56.1532, step = 201 (0.368 sec)\n",
      "INFO:tensorflow:global_step/sec: 303.675\n",
      "INFO:tensorflow:loss = 45.792, step = 301 (0.329 sec)\n",
      "INFO:tensorflow:global_step/sec: 293.851\n",
      "INFO:tensorflow:loss = 37.4857, step = 401 (0.340 sec)\n",
      "INFO:tensorflow:global_step/sec: 286.272\n",
      "INFO:tensorflow:loss = 56.4845, step = 501 (0.350 sec)\n",
      "INFO:tensorflow:global_step/sec: 287.095\n",
      "INFO:tensorflow:loss = 32.5289, step = 601 (0.347 sec)\n",
      "INFO:tensorflow:global_step/sec: 286.273\n",
      "INFO:tensorflow:loss = 37.4381, step = 701 (0.349 sec)\n",
      "INFO:tensorflow:global_step/sec: 280.643\n",
      "INFO:tensorflow:loss = 61.1075, step = 801 (0.357 sec)\n",
      "INFO:tensorflow:global_step/sec: 271.492\n",
      "INFO:tensorflow:loss = 44.6964, step = 901 (0.368 sec)\n",
      "INFO:tensorflow:Saving checkpoints for 1000 into ongoing/train3\\model.ckpt.\n",
      "INFO:tensorflow:Loss for final step: 44.1813.\n"
     ]
    },
    {
     "data": {
      "text/plain": [
       "<tensorflow.python.estimator.canned.linear.LinearClassifier at 0x1544b6eeac8>"
      ]
     },
     "execution_count": 34,
     "metadata": {},
     "output_type": "execute_result"
    }
   ],
   "source": [
    "model_imp.train(input_fn=get_input_fn(df_train_new, \n",
    "                                      num_epochs=None,\n",
    "                                      n_batch = 128,\n",
    "                                      shuffle=False),\n",
    "                                      steps=1000)"
   ]
  },
  {
   "cell_type": "code",
   "execution_count": 35,
   "metadata": {},
   "outputs": [
    {
     "name": "stdout",
     "output_type": "stream",
     "text": [
      "INFO:tensorflow:Calling model_fn.\n",
      "WARNING:tensorflow:Trapezoidal rule is known to produce incorrect PR-AUCs; please switch to \"careful_interpolation\" instead.\n",
      "WARNING:tensorflow:Trapezoidal rule is known to produce incorrect PR-AUCs; please switch to \"careful_interpolation\" instead.\n",
      "INFO:tensorflow:Done calling model_fn.\n",
      "INFO:tensorflow:Starting evaluation at 2019-05-14-14:46:05\n",
      "INFO:tensorflow:Graph was finalized.\n",
      "INFO:tensorflow:Restoring parameters from ongoing/train3\\model.ckpt-1000\n",
      "INFO:tensorflow:Running local_init_op.\n",
      "INFO:tensorflow:Done running local_init_op.\n",
      "INFO:tensorflow:Evaluation [100/1000]\n",
      "INFO:tensorflow:Finished evaluation at 2019-05-14-14:46:07\n",
      "INFO:tensorflow:Saving dict for global step 1000: accuracy = 0.835821, accuracy_baseline = 0.763774, auc = 0.884016, auc_precision_recall = 0.695996, average_loss = 0.351227, global_step = 1000, label/mean = 0.236226, loss = 44.6744, precision = 0.689867, prediction/mean = 0.233207, recall = 0.554082\n"
     ]
    },
    {
     "data": {
      "text/plain": [
       "{'accuracy': 0.83582091,\n",
       " 'accuracy_baseline': 0.76377374,\n",
       " 'auc': 0.88401639,\n",
       " 'auc_precision_recall': 0.69599575,\n",
       " 'average_loss': 0.35122654,\n",
       " 'global_step': 1000,\n",
       " 'label/mean': 0.23622628,\n",
       " 'loss': 44.67437,\n",
       " 'precision': 0.68986726,\n",
       " 'prediction/mean': 0.23320661,\n",
       " 'recall': 0.55408216}"
      ]
     },
     "execution_count": 35,
     "metadata": {},
     "output_type": "execute_result"
    }
   ],
   "source": [
    "model_imp.evaluate(input_fn=get_input_fn(df_test_new, \n",
    "                                      num_epochs=1,\n",
    "                                      n_batch = 128,\n",
    "                                      shuffle=False),\n",
    "                                      steps=1000)"
   ]
  },
  {
   "cell_type": "code",
   "execution_count": 36,
   "metadata": {},
   "outputs": [
    {
     "name": "stdout",
     "output_type": "stream",
     "text": [
      "INFO:tensorflow:Using default config.\n",
      "INFO:tensorflow:Using config: {'_model_dir': 'ongoing/train4', '_tf_random_seed': None, '_save_summary_steps': 100, '_save_checkpoints_steps': None, '_save_checkpoints_secs': 600, '_session_config': None, '_keep_checkpoint_max': 5, '_keep_checkpoint_every_n_hours': 10000, '_log_step_count_steps': 100, '_train_distribute': None, '_service': None, '_cluster_spec': <tensorflow.python.training.server_lib.ClusterSpec object at 0x000001544BD601D0>, '_task_type': 'worker', '_task_id': 0, '_global_id_in_cluster': 0, '_master': '', '_evaluation_master': '', '_is_chief': True, '_num_ps_replicas': 0, '_num_worker_replicas': 1}\n"
     ]
    }
   ],
   "source": [
    "model_regu = tf.estimator.LinearClassifier(\n",
    "    model_dir=\"ongoing/train4\", feature_columns=categorical_features+base_columns+education_x_occupation+age_buckets_x_education_x_occupation,\n",
    "    optimizer=tf.train.FtrlOptimizer(\n",
    "        learning_rate=0.1,\n",
    "        l1_regularization_strength=0.9,\n",
    "        l2_regularization_strength=5))"
   ]
  },
  {
   "cell_type": "code",
   "execution_count": 37,
   "metadata": {},
   "outputs": [
    {
     "name": "stdout",
     "output_type": "stream",
     "text": [
      "INFO:tensorflow:Calling model_fn.\n",
      "INFO:tensorflow:Done calling model_fn.\n",
      "INFO:tensorflow:Create CheckpointSaverHook.\n",
      "INFO:tensorflow:Graph was finalized.\n",
      "INFO:tensorflow:Running local_init_op.\n",
      "INFO:tensorflow:Done running local_init_op.\n",
      "INFO:tensorflow:Saving checkpoints for 1 into ongoing/train4\\model.ckpt.\n",
      "INFO:tensorflow:loss = 88.7229, step = 1\n",
      "INFO:tensorflow:global_step/sec: 117.678\n",
      "INFO:tensorflow:loss = 50.3878, step = 101 (0.853 sec)\n",
      "INFO:tensorflow:global_step/sec: 290.435\n",
      "INFO:tensorflow:loss = 55.3801, step = 201 (0.344 sec)\n",
      "INFO:tensorflow:global_step/sec: 287.922\n",
      "INFO:tensorflow:loss = 46.8067, step = 301 (0.347 sec)\n",
      "INFO:tensorflow:global_step/sec: 296.467\n",
      "INFO:tensorflow:loss = 38.6827, step = 401 (0.338 sec)\n",
      "INFO:tensorflow:global_step/sec: 281.435\n",
      "INFO:tensorflow:loss = 56.994, step = 501 (0.354 sec)\n",
      "INFO:tensorflow:global_step/sec: 283.029\n",
      "INFO:tensorflow:loss = 33.2636, step = 601 (0.354 sec)\n",
      "INFO:tensorflow:global_step/sec: 273.724\n",
      "INFO:tensorflow:loss = 37.7902, step = 701 (0.365 sec)\n",
      "INFO:tensorflow:global_step/sec: 292.989\n",
      "INFO:tensorflow:loss = 61.7326, step = 801 (0.340 sec)\n",
      "INFO:tensorflow:global_step/sec: 283.029\n",
      "INFO:tensorflow:loss = 46.9382, step = 901 (0.354 sec)\n",
      "INFO:tensorflow:Saving checkpoints for 1000 into ongoing/train4\\model.ckpt.\n",
      "INFO:tensorflow:Loss for final step: 43.4942.\n"
     ]
    },
    {
     "data": {
      "text/plain": [
       "<tensorflow.python.estimator.canned.linear.LinearClassifier at 0x1544bd60eb8>"
      ]
     },
     "execution_count": 37,
     "metadata": {},
     "output_type": "execute_result"
    }
   ],
   "source": [
    "model_regu.train(input_fn=get_input_fn(df_train_new, \n",
    "                                      num_epochs=None,\n",
    "                                      n_batch = 128,\n",
    "                                      shuffle=False),\n",
    "                                      steps=1000)"
   ]
  },
  {
   "cell_type": "code",
   "execution_count": 38,
   "metadata": {},
   "outputs": [
    {
     "name": "stdout",
     "output_type": "stream",
     "text": [
      "INFO:tensorflow:Calling model_fn.\n",
      "WARNING:tensorflow:Trapezoidal rule is known to produce incorrect PR-AUCs; please switch to \"careful_interpolation\" instead.\n",
      "WARNING:tensorflow:Trapezoidal rule is known to produce incorrect PR-AUCs; please switch to \"careful_interpolation\" instead.\n",
      "INFO:tensorflow:Done calling model_fn.\n",
      "INFO:tensorflow:Starting evaluation at 2019-05-14-14:46:31\n",
      "INFO:tensorflow:Graph was finalized.\n",
      "INFO:tensorflow:Restoring parameters from ongoing/train4\\model.ckpt-1000\n",
      "INFO:tensorflow:Running local_init_op.\n",
      "INFO:tensorflow:Done running local_init_op.\n",
      "INFO:tensorflow:Evaluation [100/1000]\n",
      "INFO:tensorflow:Finished evaluation at 2019-05-14-14:46:32\n",
      "INFO:tensorflow:Saving dict for global step 1000: accuracy = 0.838339, accuracy_baseline = 0.763774, auc = 0.886979, auc_precision_recall = 0.701491, average_loss = 0.346914, global_step = 1000, label/mean = 0.236226, loss = 44.1258, precision = 0.697206, prediction/mean = 0.236621, recall = 0.557982\n"
     ]
    },
    {
     "data": {
      "text/plain": [
       "{'accuracy': 0.83833915,\n",
       " 'accuracy_baseline': 0.76377374,\n",
       " 'auc': 0.8869794,\n",
       " 'auc_precision_recall': 0.70149052,\n",
       " 'average_loss': 0.34691378,\n",
       " 'global_step': 1000,\n",
       " 'label/mean': 0.23622628,\n",
       " 'loss': 44.125809,\n",
       " 'precision': 0.69720596,\n",
       " 'prediction/mean': 0.2366209,\n",
       " 'recall': 0.55798233}"
      ]
     },
     "execution_count": 38,
     "metadata": {},
     "output_type": "execute_result"
    }
   ],
   "source": [
    "model_regu.evaluate(input_fn=get_input_fn(df_test_new, \n",
    "                                      num_epochs=1,\n",
    "                                      n_batch = 128,\n",
    "                                      shuffle=False),\n",
    "                                      steps=1000)"
   ]
  },
  {
   "cell_type": "code",
   "execution_count": null,
   "metadata": {
    "collapsed": true
   },
   "outputs": [],
   "source": []
  }
 ],
 "metadata": {
  "kernelspec": {
   "display_name": "Python 3",
   "language": "python",
   "name": "python3"
  },
  "language_info": {
   "codemirror_mode": {
    "name": "ipython",
    "version": 3
   },
   "file_extension": ".py",
   "mimetype": "text/x-python",
   "name": "python",
   "nbconvert_exporter": "python",
   "pygments_lexer": "ipython3",
   "version": "3.6.3"
  }
 },
 "nbformat": 4,
 "nbformat_minor": 2
}
